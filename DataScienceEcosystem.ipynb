{
 "cells": [
  {
   "cell_type": "markdown",
   "id": "335dff09-1e8d-405e-86a4-c018888de638",
   "metadata": {},
   "source": [
    "# Data Science Tools and Ecosystem"
   ]
  },
  {
   "cell_type": "markdown",
   "id": "68882cd5-da83-48bd-9bbc-bdab46a25513",
   "metadata": {},
   "source": [
    "In this notebook, Data Science Tools and Ecosystem are summarized."
   ]
  },
  {
   "cell_type": "markdown",
   "id": "ce0dbfea-12b1-4dd2-8883-6d2e7c7b2019",
   "metadata": {},
   "source": [
    "__Objectives:__\n",
    "\n",
    "- List popular languages on Data Science\n",
    "- List commonly used libraries used on Data Science\n",
    "- List Data Science Tools"
   ]
  },
  {
   "cell_type": "markdown",
   "id": "70ef0e3f-ba83-4974-9e00-f09a4346206f",
   "metadata": {},
   "source": [
    "Some of the popular languages that Data Scientists use are:\n",
    "1. Python\n",
    "2. Juniper\n",
    "3. R\n",
    "4. Julia\n",
    "5. Scala"
   ]
  },
  {
   "cell_type": "markdown",
   "id": "6e9fc028-28c0-4573-9366-36994c7d4d90",
   "metadata": {},
   "source": [
    "Some of the commonly used libraries used by Data Scientists include:\n",
    "1. PostgreSQL\n",
    "2. Microsoft SQL Server\n",
    "3. MySQL\n",
    "4. SQLite\n",
    "5. IBM Db2 "
   ]
  },
  {
   "cell_type": "markdown",
   "id": "8460748d-13d6-468d-adfc-527407f0430f",
   "metadata": {},
   "source": [
    "|Data Science Tools|\n",
    "|------------------|\n",
    "|Apache Hadoop|\n",
    "|Tableau|\n",
    "|RStudio|\n"
   ]
  },
  {
   "cell_type": "markdown",
   "id": "7b58cd55-df69-432b-9a01-2e84e4c0f608",
   "metadata": {},
   "source": [
    "### Below are a few examples of evaluating arithmetic expressions in Python\n",
    "5+5\n",
    "\n",
    "5*5\n",
    "\n",
    "(2,5+6)*8\n",
    "\n",
    "31/3"
   ]
  },
  {
   "cell_type": "code",
   "execution_count": 18,
   "id": "b56ccf69-782d-4f83-9fee-d0a41d9848d1",
   "metadata": {},
   "outputs": [
    {
     "data": {
      "text/plain": [
       "17"
      ]
     },
     "execution_count": 18,
     "metadata": {},
     "output_type": "execute_result"
    }
   ],
   "source": [
    "# This a simple arithmetic expression to mutiply then add integers\n",
    "(3*4)+5"
   ]
  },
  {
   "cell_type": "code",
   "execution_count": 39,
   "id": "b869f585-29df-4398-9a8d-71d6a4b54a74",
   "metadata": {},
   "outputs": [
    {
     "data": {
      "text/plain": [
       "3.3333333333333335"
      ]
     },
     "execution_count": 39,
     "metadata": {},
     "output_type": "execute_result"
    }
   ],
   "source": [
    "# This will convert 200 minutes to hours by diving by 60.\n",
    "200/60"
   ]
  },
  {
   "cell_type": "markdown",
   "id": "c66bca03-86ab-4175-86a9-df68ec082a9c",
   "metadata": {},
   "source": [
    "## Author\n",
    "Alberto Gil"
   ]
  },
  {
   "cell_type": "code",
   "execution_count": null,
   "id": "6d0c3d06-8c7a-40f0-8434-a6823fb82904",
   "metadata": {},
   "outputs": [],
   "source": []
  }
 ],
 "metadata": {
  "kernelspec": {
   "display_name": "Python 3 (ipykernel)",
   "language": "python",
   "name": "python3"
  },
  "language_info": {
   "codemirror_mode": {
    "name": "ipython",
    "version": 3
   },
   "file_extension": ".py",
   "mimetype": "text/x-python",
   "name": "python",
   "nbconvert_exporter": "python",
   "pygments_lexer": "ipython3",
   "version": "3.12.4"
  }
 },
 "nbformat": 4,
 "nbformat_minor": 5
}
